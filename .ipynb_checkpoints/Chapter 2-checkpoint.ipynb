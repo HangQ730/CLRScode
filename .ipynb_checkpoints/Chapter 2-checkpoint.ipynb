{
 "cells": [
  {
   "cell_type": "markdown",
   "metadata": {},
   "source": [
    "## 2.1 插入排序 P10"
   ]
  },
  {
   "cell_type": "code",
   "execution_count": 46,
   "metadata": {},
   "outputs": [],
   "source": [
    "def insertsort(A):\n",
    "    for j in range(1,len(A)):\n",
    "        key = A[j]\n",
    "        i = j - 1\n",
    "        while i >= 0 and A[i] > key: # 这里 i>=0 保证第一个元素也能参与排序，因为索引是从0开始的，书中的索引是从1开始的。\n",
    "            A[i+1] = A[i]\n",
    "            i = i - 1\n",
    "        A[i+1] = key\n",
    "    "
   ]
  },
  {
   "cell_type": "code",
   "execution_count": 47,
   "metadata": {},
   "outputs": [
    {
     "data": {
      "text/plain": [
       "[1, 2, 3, 4, 5, 6]"
      ]
     },
     "execution_count": 47,
     "metadata": {},
     "output_type": "execute_result"
    }
   ],
   "source": [
    "a = [2, 5, 4, 6, 1, 3]\n",
    "insertsort(a)\n",
    "a"
   ]
  },
  {
   "cell_type": "code",
   "execution_count": null,
   "metadata": {},
   "outputs": [],
   "source": []
  },
  {
   "cell_type": "markdown",
   "metadata": {},
   "source": [
    "## 2.3.1 归并排序 P17"
   ]
  },
  {
   "cell_type": "code",
   "execution_count": 98,
   "metadata": {},
   "outputs": [],
   "source": [
    "def Merge(A, p, q, r):\n",
    "    n1 = q - p + 1\n",
    "    n2 = r - q\n",
    "    L = []\n",
    "    R = []\n",
    "    for i in range(n1):\n",
    "        L.append(A[p+i])  # 书中伪代码索引从1开始，而Python中是从0开始，所以这里就不-1了\n",
    "    for j in range(n2):\n",
    "        R.append(A[q+j+1])  # 同理，这里需要+1，否则A[q]就会被重复计算。\n",
    "#     这里可以用 \n",
    "#     L = A[p:q+1].copy()\n",
    "#     R = A[q+1:r+1].copy()\n",
    "#     用for循环是为了和书上伪代码一致。\n",
    "    L.append(max(A)+100)\n",
    "    R.append(max(A)+100)\n",
    "    i = 0\n",
    "    j = 0\n",
    "    for k in range(p,r+1):\n",
    "        if L[i] <= R[j]:\n",
    "            A[k] = L[i]\n",
    "            i = i+1\n",
    "        else:\n",
    "            A[k] = R[j]\n",
    "            j = j+1"
   ]
  },
  {
   "cell_type": "code",
   "execution_count": 99,
   "metadata": {},
   "outputs": [],
   "source": [
    "def MergeSort(A,p,r):\n",
    "    if p<r:\n",
    "        q = (p+r)//2\n",
    "        MergeSort(A,p,q)\n",
    "        MergeSort(A,q+1,r)\n",
    "        Merge(A,p,q,r)"
   ]
  },
  {
   "cell_type": "code",
   "execution_count": 100,
   "metadata": {},
   "outputs": [
    {
     "data": {
      "text/plain": [
       "[1, 2, 2, 3, 4, 5, 6, 7]"
      ]
     },
     "execution_count": 100,
     "metadata": {},
     "output_type": "execute_result"
    }
   ],
   "source": [
    "A = [5, 2, 4, 7, 1, 3, 2, 6]\n",
    "MergeSort(A,0,len(A)-1)\n",
    "A"
   ]
  },
  {
   "cell_type": "markdown",
   "metadata": {},
   "source": [
    "## KMP"
   ]
  },
  {
   "cell_type": "code",
   "execution_count": 2,
   "metadata": {},
   "outputs": [],
   "source": [
    "def MSfinding(s, m):\n",
    "    init_ts = 0\n",
    "    tm = 0\n",
    "    ts = 0\n",
    "    while tm<len(m):\n",
    "        if s[ts]==m[tm]:\n",
    "            ts += 1\n",
    "            tm += 1\n",
    "            continue\n",
    "        else:\n",
    "            init_ts += 1\n",
    "            ts = init_ts\n",
    "            tm = 0\n",
    "            if init_ts>len(s)-len(m):\n",
    "                return None\n",
    "    return init_ts\n",
    "                "
   ]
  },
  {
   "cell_type": "code",
   "execution_count": 5,
   "metadata": {},
   "outputs": [
    {
     "name": "stdout",
     "output_type": "stream",
     "text": [
      "8\n"
     ]
    }
   ],
   "source": [
    "s = 'aabaabaaaabaaf'\n",
    "m = 'aabaaf'\n",
    "print(MSfinding(s,m))"
   ]
  }
 ],
 "metadata": {
  "kernelspec": {
   "display_name": "Python 3",
   "language": "python",
   "name": "python3"
  },
  "language_info": {
   "codemirror_mode": {
    "name": "ipython",
    "version": 3
   },
   "file_extension": ".py",
   "mimetype": "text/x-python",
   "name": "python",
   "nbconvert_exporter": "python",
   "pygments_lexer": "ipython3",
   "version": "3.7.1"
  }
 },
 "nbformat": 4,
 "nbformat_minor": 2
}
