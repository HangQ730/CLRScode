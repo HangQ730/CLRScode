{
 "cells": [
  {
   "cell_type": "markdown",
   "metadata": {},
   "source": [
    "## 字符串匹配问题"
   ]
  },
  {
   "cell_type": "markdown",
   "metadata": {},
   "source": [
    "给定一个文本字符串s，一个模式串m，要求在s中找到与m相匹配的部分。\n",
    "e.g. s = 'aabaabaaf' m = 'aabaaf'\n",
    "那么在s中，符合aabaaf，返回第一个字母的索引。如果没有，返回None。\n",
    "\n",
    "通常办法：两个指针，分别指向s和m，开始从文本串的第一位开始与模式串一一匹配，如果发现不匹配，就从文本串的第二位重新开始匹配；如果又发现了不匹配，就从第三位，第四位……直到匹配成功或者匹配完整个字符串。"
   ]
  },
  {
   "cell_type": "code",
   "execution_count": 6,
   "metadata": {},
   "outputs": [],
   "source": [
    "def MSfinding(s, m):\n",
    "    init_ts = 0\n",
    "    tm = 0\n",
    "    ts = 0\n",
    "    while tm<len(m):\n",
    "        if s[ts]==m[tm]:\n",
    "            ts += 1\n",
    "            tm += 1\n",
    "            continue\n",
    "        else:\n",
    "            init_ts += 1\n",
    "            ts = init_ts\n",
    "            tm = 0\n",
    "            if init_ts>len(s)-len(m):\n",
    "                return None\n",
    "    return init_ts\n",
    "                "
   ]
  },
  {
   "cell_type": "code",
   "execution_count": 8,
   "metadata": {},
   "outputs": [
    {
     "name": "stdout",
     "output_type": "stream",
     "text": [
      "13\n"
     ]
    }
   ],
   "source": [
    "s = 'aabaabaaaabaaf'\n",
    "m = 'f'\n",
    "print(MSfinding(s,m))"
   ]
  },
  {
   "cell_type": "markdown",
   "metadata": {},
   "source": [
    "## KMP\n",
    "KMP算法使用的是前缀表。\n",
    "什么是前缀？ 前缀就是在一个字符串中包含首位但不包含末位的所有可能字符串。e.g. ‘abcde’中，前缀有 a,ab,abc,abcd。相对的，后缀就是在一个字符串中包含末位但不包含首位的所有可能字符串。e.g. ‘abcde’中，后缀有 e,de,cde,bcde。\n",
    "KMP算法需要的是<b>最长相等前后缀</b>。e.g. ‘aabaaf’前缀中, a，aab没有相等前后缀，即长度为0；<b>aa</b>，<b>a</b>ab<b>a</b>相等前后缀长度为1；<b>aa</b>b<b>aa</b>相等前后缀长度为2.\n",
    "所以aabaaf的前缀表是010120"
   ]
  },
  {
   "cell_type": "code",
   "execution_count": 33,
   "metadata": {},
   "outputs": [],
   "source": [
    "# j指向前缀末尾，i指向后缀末尾，\n",
    "# j同时也代表i之前（包括i）的子串的最长相等前后缀的长度\n",
    "def getNext(m):\n",
    "    j = 0\n",
    "    next = []\n",
    "    next.append(j) # j开始指向第一位，显然只有一位的字符串相等前后缀长度为0.\n",
    "    for i in range(1,len(m)):  # i指向后缀，从第二位开始和前缀j做比较\n",
    "        while(j>0 and m[i]!=m[j]): \n",
    "        # j>0保证next数组不越界，如果前缀j与后缀i不相等，则说明不匹配，返回到前一位的位置，即 next[j-1]\n",
    "            j = next[j-1]\n",
    "        if m[i]==m[j]:  # 如果前后缀相等，则将next对应位置加一，然后前缀j和后缀i继续后移比较。\n",
    "            j += 1\n",
    "        next.append(j)\n",
    "    return next"
   ]
  },
  {
   "cell_type": "code",
   "execution_count": 34,
   "metadata": {},
   "outputs": [
    {
     "data": {
      "text/plain": [
       "[0, 1, 0, 1, 2, 0]"
      ]
     },
     "execution_count": 34,
     "metadata": {},
     "output_type": "execute_result"
    }
   ],
   "source": [
    "getNext('aabaaf')"
   ]
  },
  {
   "cell_type": "code",
   "execution_count": null,
   "metadata": {},
   "outputs": [],
   "source": []
  },
  {
   "cell_type": "code",
   "execution_count": 14,
   "metadata": {},
   "outputs": [
    {
     "name": "stdout",
     "output_type": "stream",
     "text": [
      "0\n",
      "2\n",
      "4\n",
      "6\n",
      "8\n"
     ]
    }
   ],
   "source": []
  }
 ],
 "metadata": {
  "kernelspec": {
   "display_name": "Python 3",
   "language": "python",
   "name": "python3"
  },
  "language_info": {
   "codemirror_mode": {
    "name": "ipython",
    "version": 3
   },
   "file_extension": ".py",
   "mimetype": "text/x-python",
   "name": "python",
   "nbconvert_exporter": "python",
   "pygments_lexer": "ipython3",
   "version": "3.7.1"
  }
 },
 "nbformat": 4,
 "nbformat_minor": 2
}
